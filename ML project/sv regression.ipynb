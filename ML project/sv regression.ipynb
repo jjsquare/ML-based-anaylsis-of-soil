{
 "cells": [
  {
   "cell_type": "code",
   "execution_count": 1,
   "metadata": {},
   "outputs": [],
   "source": [
    "import pandas as pd\n",
    "import numpy as np\n",
    "import matplotlib.pyplot as plt"
   ]
  },
  {
   "cell_type": "code",
   "execution_count": 2,
   "metadata": {},
   "outputs": [],
   "source": [
    "csv_path = r'D:\\dataset\\final sheet - Copy.csv'\n",
    "dataset = pd.read_csv(csv_path)"
   ]
  },
  {
   "cell_type": "code",
   "execution_count": 3,
   "metadata": {},
   "outputs": [],
   "source": [
    "input_data = dataset.drop(columns = [\"UCS\"])\n",
    "output_data = dataset['UCS']\n",
    "from sklearn.preprocessing import minmax_scale\n",
    "X =  minmax_scale(input_data, feature_range=(0,1))\n",
    "Y = minmax_scale(output_data, feature_range=(0,1))"
   ]
  },
  {
   "cell_type": "code",
   "execution_count": 5,
   "metadata": {},
   "outputs": [],
   "source": [
    "from sklearn.model_selection import train_test_split\n",
    "X_train, X_test, y_train, y_test = train_test_split(X, Y, test_size=0.2, random_state=0)"
   ]
  },
  {
   "cell_type": "code",
   "execution_count": 6,
   "metadata": {},
   "outputs": [],
   "source": [
    "from sklearn.svm import SVR\n",
    "svr = SVR(kernel=\"linear\", C=100, gamma=0.1, epsilon=0.1)\n",
    "svr.fit(X_train,y_train);"
   ]
  },
  {
   "cell_type": "code",
   "execution_count": 7,
   "metadata": {},
   "outputs": [],
   "source": [
    "y_pred = svr.predict(X_test)\n",
    "df = pd.DataFrame({'Actual': y_test, 'Predicted': y_pred})\n",
    "# df"
   ]
  },
  {
   "cell_type": "code",
   "execution_count": 8,
   "metadata": {},
   "outputs": [
    {
     "name": "stdout",
     "output_type": "stream",
     "text": [
      "Mean Absolute Error: 0.09200258120344192\n",
      "Mean Squared Error: 0.015882178654665628\n",
      "Root Mean Squared Error: 0.12602451608582207\n"
     ]
    }
   ],
   "source": [
    "from sklearn import metrics\n",
    "print('Mean Absolute Error:', metrics.mean_absolute_error(y_test, y_pred))\n",
    "print('Mean Squared Error:', metrics.mean_squared_error(y_test, y_pred))\n",
    "print('Root Mean Squared Error:', np.sqrt(metrics.mean_squared_error(y_test, y_pred)))"
   ]
  },
  {
   "cell_type": "code",
   "execution_count": 9,
   "metadata": {},
   "outputs": [
    {
     "data": {
      "text/plain": [
       "0.6143052516492118"
      ]
     },
     "execution_count": 9,
     "metadata": {},
     "output_type": "execute_result"
    }
   ],
   "source": [
    "from sklearn.metrics import r2_score\n",
    "r2_score(y_test, y_pred)"
   ]
  },
  {
   "cell_type": "code",
   "execution_count": 10,
   "metadata": {},
   "outputs": [
    {
     "data": {
      "text/plain": [
       "array([[ 0.14261993,  0.2763138 ,  0.2274932 , -0.0655245 , -0.26987668,\n",
       "        -0.09076979, -0.27894794, -0.06084434, -0.09541798, -4.91880641,\n",
       "         2.84900107,  5.09683474]])"
      ]
     },
     "execution_count": 10,
     "metadata": {},
     "output_type": "execute_result"
    }
   ],
   "source": [
    "importance = svr.coef_\n",
    "importance"
   ]
  },
  {
   "cell_type": "code",
   "execution_count": 11,
   "metadata": {},
   "outputs": [
    {
     "name": "stdout",
     "output_type": "stream",
     "text": [
      "Feature: 0, Score: 0.00617\n",
      "Feature: 1, Score: 0.01293\n",
      "Feature: 2, Score: 0.00230\n",
      "Feature: 3, Score: 0.01581\n",
      "Feature: 4, Score: 0.00703\n",
      "Feature: 5, Score: 0.01712\n",
      "Feature: 6, Score: 0.01820\n",
      "Feature: 7, Score: 0.00545\n",
      "Feature: 8, Score: 0.00550\n",
      "Feature: 9, Score: 0.38113\n",
      "Feature: 10, Score: 0.18001\n",
      "Feature: 11, Score: 0.34837\n"
     ]
    },
    {
     "data": {
      "image/png": "[encoded data removed]",
      "text/plain": [
       "<Figure size 432x288 with 1 Axes>"
      ]
     },
     "metadata": {
      "needs_background": "light"
     },
     "output_type": "display_data"
    }
   ],
   "source": [
    "importance = np.array([  3.00558238,   3.72263144,  25.37387579,   7.29693771,185.03184339,  13.95070883,   5.19434573,   3.13860989, 9.69290703,  61.05492875,  60.62433069,  62.81575007])\n",
    "std = np.array([6.805,11.52,0.3,7.187,0.126,4.07,11.618,5.763,1.881,20.704,9.848,18.394])\n",
    "importance = importance*std\n",
    "importance = importance/(importance.sum())\n",
    "for i,v in enumerate(importance):\n",
    "    print('Feature: %0d, Score: %.5f' % (i,v))\n",
    "# plot feature importance\n",
    "plt.bar([x for x in range(len(importance))], importance)\n",
    "plt.show()"
   ]
  }
 ],
 "metadata": {
  "kernelspec": {
   "display_name": "Python 3",
   "language": "python",
   "name": "python3"
  },
  "language_info": {
   "codemirror_mode": {
    "name": "ipython",
    "version": 3
   },
   "file_extension": ".py",
   "mimetype": "text/x-python",
   "name": "python",
   "nbconvert_exporter": "python",
   "pygments_lexer": "ipython3",
   "version": "3.7.4"
  }
 },
 "nbformat": 4,
 "nbformat_minor": 2
}
